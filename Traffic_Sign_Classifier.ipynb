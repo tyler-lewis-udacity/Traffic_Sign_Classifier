{
 "cells": [
  {
   "cell_type": "markdown",
   "metadata": {},
   "source": [
    "# Self-Driving Car Engineer Nanodegree\n",
    "\n",
    "## Deep Learning\n",
    "\n",
    "## Project: Build a Traffic Sign Recognition Classifier\n",
    "\n",
    "In this notebook, a template is provided for you to implement your functionality in stages, which is required to successfully complete this project. If additional code is required that cannot be included in the notebook, be sure that the Python code is successfully imported and included in your submission if necessary. \n",
    "\n",
    "> **Note**: Once you have completed all of the code implementations, you need to finalize your work by exporting the iPython Notebook as an HTML document. Before exporting the notebook to html, all of the code cells need to have been run so that reviewers can see the final implementation and output. You can then export the notebook by using the menu above and navigating to  \\n\",\n",
    "    \"**File -> Download as -> HTML (.html)**. Include the finished document along with this notebook as your submission. \n",
    "\n",
    "In addition to implementing code, there is a writeup to complete. The writeup should be completed in a separate file, which can be either a markdown file or a pdf document. There is a [write up template](https://github.com/udacity/CarND-Traffic-Sign-Classifier-Project/blob/master/writeup_template.md) that can be used to guide the writing process. Completing the code template and writeup template will cover all of the [rubric points](https://review.udacity.com/#!/rubrics/481/view) for this project.\n",
    "\n",
    "The [rubric](https://review.udacity.com/#!/rubrics/481/view) contains \"Stand Out Suggestions\" for enhancing the project beyond the minimum requirements. The stand out suggestions are optional. If you decide to pursue the \"stand out suggestions\", you can include the code in this Ipython notebook and also discuss the results in the writeup file.\n",
    "\n",
    "\n",
    ">**Note:** Code and Markdown cells can be executed using the **Shift + Enter** keyboard shortcut. In addition, Markdown cells can be edited by typically double-clicking the cell to enter edit mode."
   ]
  },
  {
   "cell_type": "code",
   "execution_count": 1,
   "metadata": {},
   "outputs": [],
   "source": [
    "import os\n",
    "import random\n",
    "import pickle\n",
    "import numpy as np\n",
    "import matplotlib.pyplot as plt\n",
    "import matplotlib.image as mpimg\n",
    "# Visualizations will be shown in the notebook.\n",
    "%matplotlib inline\n",
    "from sklearn.utils import shuffle\n",
    "import tensorflow as tf\n",
    "from tensorflow.contrib.layers import flatten\n",
    "import csv\n",
    "import cv2\n",
    "import PIL"
   ]
  },
  {
   "cell_type": "markdown",
   "metadata": {},
   "source": [
    "---\n",
    "## Step 0: Load The Data"
   ]
  },
  {
   "cell_type": "code",
   "execution_count": 2,
   "metadata": {},
   "outputs": [],
   "source": [
    "# Create a path to the folder containing training data:\n",
    "cwd  = os.getcwd()\n",
    "path = '{}/{}'.format(cwd, 'traffic-signs-data')\n",
    "\n",
    "# Load pickled data\n",
    "training_file   = '{}/{}'.format(path, 'train.p')\n",
    "validation_file = '{}/{}'.format(path, 'valid.p')\n",
    "testing_file    = '{}/{}'.format(path, 'test.p')\n",
    "\n",
    "with open(training_file, mode='rb') as f:\n",
    "    train = pickle.load(f)\n",
    "with open(validation_file, mode='rb') as f:\n",
    "    valid = pickle.load(f)\n",
    "with open(testing_file, mode='rb') as f:\n",
    "    test = pickle.load(f)\n",
    "    \n",
    "X_train_original, y_train = train['features'], train['labels']\n",
    "X_valid_original, y_valid = valid['features'], valid['labels']\n",
    "X_test_original, y_test = test['features'], test['labels']\n",
    "\n",
    "X_train = np.copy(X_train_original)\n",
    "X_valid = np.copy(X_valid_original)\n",
    "X_test = np.copy(X_test_original)"
   ]
  },
  {
   "cell_type": "markdown",
   "metadata": {},
   "source": [
    "---\n",
    "\n",
    "## Step 1: Dataset Summary & Exploration\n",
    "\n",
    "The pickled data is a dictionary with 4 key/value pairs:\n",
    "\n",
    "- `'features'` is a 4D array containing raw pixel data of the traffic sign images, (num examples, width, height, channels).\n",
    "- `'labels'` is a 1D array containing the label/class id of the traffic sign. The file `signnames.csv` contains id -> name mappings for each id.\n",
    "- `'sizes'` is a list containing tuples, (width, height) representing the original width and height the image.\n",
    "- `'coords'` is a list containing tuples, (x1, y1, x2, y2) representing coordinates of a bounding box around the sign in the image. **THESE COORDINATES ASSUME THE ORIGINAL IMAGE. THE PICKLED DATA CONTAINS RESIZED VERSIONS (32 by 32) OF THESE IMAGES**\n",
    "\n",
    "Complete the basic data summary below. Use python, numpy and/or pandas methods to calculate the data summary rather than hard coding the results. For example, the [pandas shape method](http://pandas.pydata.org/pandas-docs/stable/generated/pandas.DataFrame.shape.html) might be useful for calculating some of the summary results. "
   ]
  },
  {
   "cell_type": "markdown",
   "metadata": {},
   "source": [
    "### Provide a Basic Summary of the Data Set Using Python, Numpy and/or Pandas"
   ]
  },
  {
   "cell_type": "code",
   "execution_count": 3,
   "metadata": {},
   "outputs": [
    {
     "name": "stdout",
     "output_type": "stream",
     "text": [
      "Number of training examples = 34799\n",
      "Number of testing examples = 12630\n",
      "Image data shape = (32, 32, 3)\n",
      "Number of classes = 43\n"
     ]
    }
   ],
   "source": [
    "### Replace each question mark with the appropriate value. \n",
    "### Use python, pandas or numpy methods rather than hard coding the results\n",
    "\n",
    "# TODO: Number of training examples\n",
    "n_train = train.get('features').shape[0]\n",
    "\n",
    "# TODO: Number of validation examples\n",
    "n_validation = valid.get('features').shape[0]\n",
    "\n",
    "# TODO: Number of testing examples.\n",
    "n_test = test.get('features').shape[0]\n",
    "\n",
    "# TODO: What's the shape of a traffic sign image?\n",
    "image_shape = test.get('features').shape[1:4]\n",
    "\n",
    "# TODO: How many unique classes/labels there are in the dataset.\n",
    "num_unique_train = len(np.unique(train.get('labels')))\n",
    "num_unique_valid = len(np.unique(valid.get('labels')))\n",
    "num_unique_test  = len(np.unique(test.get('labels')))\n",
    "n_classes = max(num_unique_train, num_unique_valid, num_unique_test)\n",
    "\n",
    "# How many images of each class are there?\n",
    "unique, counts = np.unique(y_train, return_counts=True)\n",
    "\n",
    "print(\"Number of training examples =\", n_train)\n",
    "print(\"Number of testing examples =\", n_test)\n",
    "print(\"Image data shape =\", image_shape)\n",
    "print(\"Number of classes =\", n_classes)"
   ]
  },
  {
   "cell_type": "markdown",
   "metadata": {},
   "source": [
    "### Include an exploratory visualization of the dataset"
   ]
  },
  {
   "cell_type": "markdown",
   "metadata": {},
   "source": [
    "Visualize the German Traffic Signs Dataset using the pickled file(s). This is open ended, suggestions include: plotting traffic sign images, plotting the count of each sign, etc. \n",
    "\n",
    "The [Matplotlib](http://matplotlib.org/) [examples](http://matplotlib.org/examples/index.html) and [gallery](http://matplotlib.org/gallery.html) pages are a great resource for doing visualizations in Python.\n",
    "\n",
    "**NOTE:** It's recommended you start with something simple first. If you wish to do more, come back to it after you've completed the rest of the sections. It can be interesting to look at the distribution of classes in the training, validation and test set. Is the distribution the same? Are there more examples of some classes than others?"
   ]
  },
  {
   "cell_type": "code",
   "execution_count": 4,
   "metadata": {},
   "outputs": [
    {
     "data": {
      "image/png": "[encoded data removed]",
      "text/plain": [
       "<matplotlib.figure.Figure at 0x7f17d568ae80>"
      ]
     },
     "metadata": {},
     "output_type": "display_data"
    }
   ],
   "source": [
    "# Show images per class in bar chart:\n",
    "plt.bar(unique, counts)\n",
    "plt.title('Number of Images of Each Class')\n",
    "plt.xlabel('Class Number')\n",
    "plt.ylabel('Number of Images')\n",
    "plt.show()"
   ]
  },
  {
   "cell_type": "markdown",
   "metadata": {},
   "source": [
    "## Visualize Data\n",
    "\n",
    "View a sample from the dataset.\n"
   ]
  },
  {
   "cell_type": "code",
   "execution_count": 5,
   "metadata": {},
   "outputs": [],
   "source": [
    "def csv2dict():\n",
    "    reader = csv.reader(open('signnames.csv'))\n",
    "    dictionary = {}\n",
    "    for row in reader:\n",
    "        key = row[0]\n",
    "        if key in dictionary:\n",
    "            pass\n",
    "        dictionary[key] = row[1:]\n",
    "    #print(dictionary)\n",
    "    return dictionary\n",
    "\n",
    "def show_image_stats(img):\n",
    "    print(f'Image Type  = {img.dtype}')\n",
    "    print(f'Image Shape = {np.shape(img)}')\n",
    "    print(f'Min  Pixel  = {round(np.min(img), 3)}')\n",
    "    print(f'Mean Pixel  = {round(np.mean(img), 3)}')\n",
    "    print(f'Max  Pixel  = {round(np.max(img), 3)}')\n",
    "    \n",
    "def show_random_image(X_train, y_train):\n",
    "    index = random.randint(0, len(X_train))\n",
    "    image = X_train[index].squeeze()\n",
    "    plt.figure(figsize=(2,2))\n",
    "    plt.imshow(image, cmap=\"gray\")\n",
    "    key = str(y_train[index])\n",
    "    print(f'Sign  Name  = {sign_names.get(key)[0]}')\n",
    "    show_image_stats(X_train[index])\n",
    "    return index\n",
    "\n",
    "sign_names = csv2dict()"
   ]
  },
  {
   "cell_type": "code",
   "execution_count": 6,
   "metadata": {},
   "outputs": [
    {
     "name": "stdout",
     "output_type": "stream",
     "text": [
      "Sign  Name  = Speed limit (60km/h)\n",
      "Image Type  = uint8\n",
      "Image Shape = (32, 32, 3)\n",
      "Min  Pixel  = 16\n",
      "Mean Pixel  = 48.472\n",
      "Max  Pixel  = 168\n"
     ]
    },
    {
     "data": {
      "image/png": "[encoded data removed]",
      "text/plain": [
       "<matplotlib.figure.Figure at 0x7f17d5546e48>"
      ]
     },
     "metadata": {},
     "output_type": "display_data"
    }
   ],
   "source": [
    "# Show a random image from the training set.  \n",
    "# (...make sure that the Sign Name matches the image shown.)\n",
    "\n",
    "index = show_random_image(X_train, y_train)"
   ]
  },
  {
   "cell_type": "markdown",
   "metadata": {},
   "source": [
    "### Pre-process the Data Set (normalization, grayscale, etc.)"
   ]
  },
  {
   "cell_type": "markdown",
   "metadata": {},
   "source": [
    "Minimally, the image data should be normalized so that the data has mean zero and equal variance. For image data, `(pixel - 128)/ 128` is a quick way to approximately normalize the data and can be used in this project. \n",
    "\n",
    "Other pre-processing steps are optional. You can try different techniques to see if it improves performance. \n",
    "\n",
    "Use the code cell (or multiple code cells, if necessary) to implement the first step of your project."
   ]
  },
  {
   "cell_type": "code",
   "execution_count": 7,
   "metadata": {},
   "outputs": [],
   "source": [
    "### Preprocess the data here. It is required to normalize the data. Other preprocessing steps could include \n",
    "### converting to grayscale, etc.\n",
    "### Feel free to use as many code cells as needed."
   ]
  },
  {
   "cell_type": "code",
   "execution_count": 8,
   "metadata": {},
   "outputs": [
    {
     "name": "stdout",
     "output_type": "stream",
     "text": [
      "Image Type  = float64\n",
      "Image Shape = (32, 32, 1)\n",
      "Min  Pixel  = 28.333\n",
      "Mean Pixel  = 48.472\n",
      "Max  Pixel  = 166.667\n"
     ]
    }
   ],
   "source": [
    "# Convert to grayscale\n",
    "X_train_gray = np.sum(X_train/3, axis=3, keepdims=True)\n",
    "X_valid_gray = np.sum(X_valid/3, axis=3, keepdims=True)\n",
    "X_test_gray = np.sum(X_test/3, axis=3, keepdims=True)\n",
    "\n",
    "X_train = X_train_gray\n",
    "X_valid = X_valid_gray\n",
    "X_test = X_test_gray\n",
    "show_image_stats(X_train[index])"
   ]
  },
  {
   "cell_type": "code",
   "execution_count": 9,
   "metadata": {},
   "outputs": [
    {
     "name": "stdout",
     "output_type": "stream",
     "text": [
      "Image Type  = float64\n",
      "Image Shape = (32, 32, 1)\n",
      "Min  Pixel  = -0.779\n",
      "Mean Pixel  = -0.621\n",
      "Max  Pixel  = 0.302\n"
     ]
    }
   ],
   "source": [
    "# Normalize the datasets to approximately (-1,1):\n",
    "X_train_normalized = ((X_train - 128)/128)\n",
    "X_valid_normalized = ((X_valid - 128)/128)\n",
    "X_test_normalized = ((X_test - 128)/128)\n",
    "\n",
    "X_train = X_train_normalized \n",
    "X_valid = X_valid_normalized\n",
    "X_test = X_test_normalized\n",
    "show_image_stats(X_train[index])"
   ]
  },
  {
   "cell_type": "code",
   "execution_count": 10,
   "metadata": {},
   "outputs": [
    {
     "name": "stdout",
     "output_type": "stream",
     "text": [
      "Image Type  = float64\n",
      "Image Shape = (32, 32, 1)\n",
      "Min  Pixel  = -0.771\n",
      "Mean Pixel  = -0.302\n",
      "Max  Pixel  = 0.987\n"
     ]
    }
   ],
   "source": [
    "# Shuffle the datasets:\n",
    "X_train, y_train = shuffle(X_train, y_train)\n",
    "X_valid, y_valid = shuffle(X_valid, y_valid)\n",
    "X_test, y_test = shuffle(X_test, y_test)\n",
    "show_image_stats(X_train[index])"
   ]
  },
  {
   "cell_type": "markdown",
   "metadata": {},
   "source": [
    "### Model Architecture"
   ]
  },
  {
   "cell_type": "code",
   "execution_count": 11,
   "metadata": {},
   "outputs": [],
   "source": [
    "### Define your architecture here.\n",
    "### Feel free to use as many code cells as needed."
   ]
  },
  {
   "cell_type": "code",
   "execution_count": 12,
   "metadata": {},
   "outputs": [],
   "source": [
    "EPOCHS = 100\n",
    "BATCH_SIZE = 64"
   ]
  },
  {
   "cell_type": "code",
   "execution_count": 13,
   "metadata": {},
   "outputs": [],
   "source": [
    "# Unaltered from: LeNet-Lab-Solution.ipynb\n",
    "# Gray:\n",
    "from tensorflow.contrib.layers import flatten\n",
    "\n",
    "def LeNet(x):    \n",
    "    # Arguments used for tf.truncated_normal, randomly defines variables for the weights and biases for each layer\n",
    "    mu = 0\n",
    "    sigma = 0.1\n",
    "    \n",
    "    # SOLUTION: Layer 1: Convolutional. Input = 32x32x1. Output = 28x28x6.\n",
    "    conv1_W = tf.Variable(tf.truncated_normal(shape=(5, 5, 1, 6), mean = mu, stddev = sigma))\n",
    "    conv1_b = tf.Variable(tf.zeros(6))\n",
    "    conv1   = tf.nn.conv2d(x, conv1_W, strides=[1, 1, 1, 1], padding='VALID') + conv1_b\n",
    "\n",
    "    # SOLUTION: Activation.\n",
    "    conv1 = tf.nn.relu(conv1)\n",
    "\n",
    "    # SOLUTION: Pooling. Input = 28x28x6. Output = 14x14x6.\n",
    "    conv1 = tf.nn.max_pool(conv1, ksize=[1, 2, 2, 1], strides=[1, 2, 2, 1], padding='VALID')\n",
    "\n",
    "    # SOLUTION: Layer 2: Convolutional. Output = 10x10x16.\n",
    "    conv2_W = tf.Variable(tf.truncated_normal(shape=(5, 5, 6, 16), mean = mu, stddev = sigma))\n",
    "    conv2_b = tf.Variable(tf.zeros(16))\n",
    "    conv2   = tf.nn.conv2d(conv1, conv2_W, strides=[1, 1, 1, 1], padding='VALID') + conv2_b\n",
    "    \n",
    "    # SOLUTION: Activation.\n",
    "    conv2 = tf.nn.relu(conv2)\n",
    "\n",
    "    # SOLUTION: Pooling. Input = 10x10x16. Output = 5x5x16.\n",
    "    conv2 = tf.nn.max_pool(conv2, ksize=[1, 2, 2, 1], strides=[1, 2, 2, 1], padding='VALID')\n",
    "\n",
    "    # SOLUTION: Flatten. Input = 5x5x16. Output = 400.\n",
    "    fc0   = flatten(conv2)\n",
    "    \n",
    "    # SOLUTION: Layer 3: Fully Connected. Input = 400. Output = 120.\n",
    "    fc1_W = tf.Variable(tf.truncated_normal(shape=(400, 120), mean = mu, stddev = sigma))\n",
    "    fc1_b = tf.Variable(tf.zeros(120))\n",
    "    fc1   = tf.matmul(fc0, fc1_W) + fc1_b\n",
    "    \n",
    "    # SOLUTION: Activation.\n",
    "    fc1    = tf.nn.relu(fc1)\n",
    "\n",
    "    # SOLUTION: Layer 4: Fully Connected. Input = 120. Output = 84.\n",
    "    fc2_W  = tf.Variable(tf.truncated_normal(shape=(120, 84), mean = mu, stddev = sigma))\n",
    "    fc2_b  = tf.Variable(tf.zeros(84))\n",
    "    fc2    = tf.matmul(fc1, fc2_W) + fc2_b\n",
    "    \n",
    "    # SOLUTION: Activation.\n",
    "    fc2    = tf.nn.relu(fc2)\n",
    "\n",
    "    # SOLUTION: Layer 5: Fully Connected. Input = 84. Output = 10.\n",
    "    fc3_W  = tf.Variable(tf.truncated_normal(shape=(84, 43), mean = mu, stddev = sigma))\n",
    "    fc3_b  = tf.Variable(tf.zeros(43))\n",
    "    logits = tf.matmul(fc2, fc3_W) + fc3_b\n",
    "    \n",
    "    return logits\n",
    "\n",
    "x = tf.placeholder(tf.float32, (None, 32, 32, 1))\n",
    "y = tf.placeholder(tf.int32, (None))\n",
    "one_hot_y = tf.one_hot(y, 43)"
   ]
  },
  {
   "cell_type": "markdown",
   "metadata": {},
   "source": [
    "### Train, Validate and Test the Model"
   ]
  },
  {
   "cell_type": "markdown",
   "metadata": {},
   "source": [
    "A validation set can be used to assess how well the model is performing. A low accuracy on the training and validation\n",
    "sets imply underfitting. A high accuracy on the training set but low accuracy on the validation set implies overfitting."
   ]
  },
  {
   "cell_type": "markdown",
   "metadata": {},
   "source": [
    "## Features and Labels\n",
    "Train LeNet to classify [MNIST](http://yann.lecun.com/exdb/mnist/) data.\n",
    "\n",
    "`x` is a placeholder for a batch of input images.\n",
    "`y` is a placeholder for a batch of output labels.\n",
    "\n",
    "You do not need to modify this section."
   ]
  },
  {
   "cell_type": "code",
   "execution_count": 14,
   "metadata": {},
   "outputs": [],
   "source": [
    "### Train your model here.\n",
    "### Calculate and report the accuracy on the training and validation set.\n",
    "### Once a final model architecture is selected, \n",
    "### the accuracy on the test set should be calculated and reported as well.\n",
    "### Feel free to use as many code cells as needed."
   ]
  },
  {
   "cell_type": "code",
   "execution_count": 15,
   "metadata": {},
   "outputs": [],
   "source": [
    "rate = 0.0007\n",
    "\n",
    "logits = LeNet(x)\n",
    "cross_entropy = tf.nn.softmax_cross_entropy_with_logits(labels=one_hot_y, logits=logits)\n",
    "loss_operation = tf.reduce_mean(cross_entropy)\n",
    "optimizer = tf.train.AdamOptimizer(learning_rate = rate)\n",
    "training_operation = optimizer.minimize(loss_operation)"
   ]
  },
  {
   "cell_type": "code",
   "execution_count": 16,
   "metadata": {},
   "outputs": [],
   "source": [
    "correct_prediction = tf.equal(tf.argmax(logits, 1), tf.argmax(one_hot_y, 1))\n",
    "accuracy_operation = tf.reduce_mean(tf.cast(correct_prediction, tf.float32))\n",
    "saver = tf.train.Saver()\n",
    "\n",
    "def evaluate(X_data, y_data):\n",
    "    num_examples = len(X_data)\n",
    "    total_accuracy = 0\n",
    "    sess = tf.get_default_session()\n",
    "    for offset in range(0, num_examples, BATCH_SIZE):\n",
    "        batch_x, batch_y = X_data[offset:offset+BATCH_SIZE], y_data[offset:offset+BATCH_SIZE]\n",
    "        accuracy = sess.run(accuracy_operation, feed_dict={x: batch_x, y: batch_y})\n",
    "        total_accuracy += (accuracy * len(batch_x))\n",
    "    return total_accuracy / num_examples"
   ]
  },
  {
   "cell_type": "code",
   "execution_count": 17,
   "metadata": {
    "scrolled": true
   },
   "outputs": [
    {
     "name": "stdout",
     "output_type": "stream",
     "text": [
      "Training...\n",
      "\n",
      "EPOCH 1 ...\n",
      "Validation Accuracy = 0.738\n",
      "\n",
      "EPOCH 2 ...\n",
      "Validation Accuracy = 0.842\n",
      "\n",
      "EPOCH 3 ...\n",
      "Validation Accuracy = 0.877\n",
      "\n",
      "EPOCH 4 ...\n",
      "Validation Accuracy = 0.883\n",
      "\n",
      "EPOCH 5 ...\n",
      "Validation Accuracy = 0.900\n",
      "\n",
      "EPOCH 6 ...\n",
      "Validation Accuracy = 0.904\n",
      "\n",
      "EPOCH 7 ...\n",
      "Validation Accuracy = 0.914\n",
      "\n",
      "EPOCH 8 ...\n",
      "Validation Accuracy = 0.903\n",
      "\n",
      "EPOCH 9 ...\n",
      "Validation Accuracy = 0.912\n",
      "\n",
      "EPOCH 10 ...\n",
      "Validation Accuracy = 0.916\n",
      "\n",
      "EPOCH 11 ...\n",
      "Validation Accuracy = 0.915\n",
      "\n",
      "EPOCH 12 ...\n",
      "Validation Accuracy = 0.910\n",
      "\n",
      "EPOCH 13 ...\n",
      "Validation Accuracy = 0.918\n",
      "\n",
      "EPOCH 14 ...\n",
      "Validation Accuracy = 0.916\n",
      "\n",
      "EPOCH 15 ...\n",
      "Validation Accuracy = 0.920\n",
      "\n",
      "EPOCH 16 ...\n",
      "Validation Accuracy = 0.919\n",
      "\n",
      "EPOCH 17 ...\n",
      "Validation Accuracy = 0.910\n",
      "\n",
      "EPOCH 18 ...\n",
      "Validation Accuracy = 0.926\n",
      "\n",
      "EPOCH 19 ...\n",
      "Validation Accuracy = 0.925\n",
      "\n",
      "EPOCH 20 ...\n",
      "Validation Accuracy = 0.908\n",
      "\n",
      "EPOCH 21 ...\n",
      "Validation Accuracy = 0.931\n",
      "\n",
      "EPOCH 22 ...\n",
      "Validation Accuracy = 0.936\n",
      "\n",
      "EPOCH 23 ...\n",
      "Validation Accuracy = 0.918\n",
      "\n",
      "EPOCH 24 ...\n",
      "Validation Accuracy = 0.935\n",
      "\n",
      "EPOCH 25 ...\n",
      "Validation Accuracy = 0.930\n",
      "\n",
      "EPOCH 26 ...\n",
      "Validation Accuracy = 0.932\n",
      "\n",
      "EPOCH 27 ...\n",
      "Validation Accuracy = 0.917\n",
      "\n",
      "EPOCH 28 ...\n",
      "Validation Accuracy = 0.939\n",
      "\n",
      "EPOCH 29 ...\n",
      "Validation Accuracy = 0.911\n",
      "\n",
      "EPOCH 30 ...\n",
      "Validation Accuracy = 0.938\n",
      "\n",
      "EPOCH 31 ...\n",
      "Validation Accuracy = 0.946\n",
      "\n",
      "EPOCH 32 ...\n",
      "Validation Accuracy = 0.931\n",
      "\n",
      "EPOCH 33 ...\n",
      "Validation Accuracy = 0.934\n",
      "\n",
      "EPOCH 34 ...\n",
      "Validation Accuracy = 0.936\n",
      "\n",
      "EPOCH 35 ...\n",
      "Validation Accuracy = 0.943\n",
      "\n",
      "EPOCH 36 ...\n",
      "Validation Accuracy = 0.934\n",
      "\n",
      "EPOCH 37 ...\n",
      "Validation Accuracy = 0.928\n",
      "\n",
      "EPOCH 38 ...\n",
      "Validation Accuracy = 0.939\n",
      "\n",
      "EPOCH 39 ...\n",
      "Validation Accuracy = 0.941\n",
      "\n",
      "EPOCH 40 ...\n",
      "Validation Accuracy = 0.932\n",
      "\n",
      "EPOCH 41 ...\n",
      "Validation Accuracy = 0.929\n",
      "\n",
      "EPOCH 42 ...\n",
      "Validation Accuracy = 0.932\n",
      "\n",
      "EPOCH 43 ...\n",
      "Validation Accuracy = 0.935\n",
      "\n",
      "EPOCH 44 ...\n",
      "Validation Accuracy = 0.943\n",
      "\n",
      "EPOCH 45 ...\n",
      "Validation Accuracy = 0.937\n",
      "\n",
      "EPOCH 46 ...\n",
      "Validation Accuracy = 0.927\n",
      "\n",
      "EPOCH 47 ...\n",
      "Validation Accuracy = 0.940\n",
      "\n",
      "EPOCH 48 ...\n",
      "Validation Accuracy = 0.941\n",
      "\n",
      "EPOCH 49 ...\n",
      "Validation Accuracy = 0.941\n",
      "\n",
      "EPOCH 50 ...\n",
      "Validation Accuracy = 0.941\n",
      "\n",
      "EPOCH 51 ...\n",
      "Validation Accuracy = 0.942\n",
      "\n",
      "EPOCH 52 ...\n",
      "Validation Accuracy = 0.942\n",
      "\n",
      "EPOCH 53 ...\n",
      "Validation Accuracy = 0.943\n",
      "\n",
      "EPOCH 54 ...\n",
      "Validation Accuracy = 0.942\n",
      "\n",
      "EPOCH 55 ...\n",
      "Validation Accuracy = 0.943\n",
      "\n",
      "EPOCH 56 ...\n",
      "Validation Accuracy = 0.940\n",
      "\n",
      "EPOCH 57 ...\n",
      "Validation Accuracy = 0.938\n",
      "\n",
      "EPOCH 58 ...\n",
      "Validation Accuracy = 0.949\n",
      "\n",
      "EPOCH 59 ...\n",
      "Validation Accuracy = 0.948\n",
      "\n",
      "EPOCH 60 ...\n",
      "Validation Accuracy = 0.948\n",
      "\n",
      "EPOCH 61 ...\n",
      "Validation Accuracy = 0.946\n",
      "\n",
      "EPOCH 62 ...\n",
      "Validation Accuracy = 0.946\n",
      "\n",
      "EPOCH 63 ...\n",
      "Validation Accuracy = 0.946\n",
      "\n",
      "EPOCH 64 ...\n",
      "Validation Accuracy = 0.947\n",
      "\n",
      "EPOCH 65 ...\n",
      "Validation Accuracy = 0.947\n",
      "\n",
      "EPOCH 66 ...\n",
      "Validation Accuracy = 0.946\n",
      "\n",
      "EPOCH 67 ...\n",
      "Validation Accuracy = 0.947\n",
      "\n",
      "EPOCH 68 ...\n",
      "Validation Accuracy = 0.946\n",
      "\n",
      "EPOCH 69 ...\n",
      "Validation Accuracy = 0.924\n",
      "\n",
      "EPOCH 70 ...\n",
      "Validation Accuracy = 0.936\n",
      "\n",
      "EPOCH 71 ...\n",
      "Validation Accuracy = 0.930\n",
      "\n",
      "EPOCH 72 ...\n",
      "Validation Accuracy = 0.935\n",
      "\n",
      "EPOCH 73 ...\n",
      "Validation Accuracy = 0.940\n",
      "\n",
      "EPOCH 74 ...\n",
      "Validation Accuracy = 0.939\n",
      "\n",
      "EPOCH 75 ...\n",
      "Validation Accuracy = 0.939\n",
      "\n",
      "EPOCH 76 ...\n",
      "Validation Accuracy = 0.938\n",
      "\n",
      "EPOCH 77 ...\n",
      "Validation Accuracy = 0.939\n",
      "\n",
      "EPOCH 78 ...\n",
      "Validation Accuracy = 0.937\n",
      "\n",
      "EPOCH 79 ...\n",
      "Validation Accuracy = 0.938\n",
      "\n",
      "EPOCH 80 ...\n",
      "Validation Accuracy = 0.938\n",
      "\n",
      "EPOCH 81 ...\n",
      "Validation Accuracy = 0.939\n",
      "\n",
      "EPOCH 82 ...\n",
      "Validation Accuracy = 0.937\n",
      "\n",
      "EPOCH 83 ...\n",
      "Validation Accuracy = 0.935\n",
      "\n",
      "EPOCH 84 ...\n",
      "Validation Accuracy = 0.936\n",
      "\n",
      "EPOCH 85 ...\n",
      "Validation Accuracy = 0.943\n",
      "\n",
      "EPOCH 86 ...\n",
      "Validation Accuracy = 0.943\n",
      "\n",
      "EPOCH 87 ...\n",
      "Validation Accuracy = 0.942\n",
      "\n",
      "EPOCH 88 ...\n",
      "Validation Accuracy = 0.927\n",
      "\n",
      "EPOCH 89 ...\n",
      "Validation Accuracy = 0.931\n",
      "\n",
      "EPOCH 90 ...\n",
      "Validation Accuracy = 0.949\n",
      "\n",
      "EPOCH 91 ...\n",
      "Validation Accuracy = 0.935\n",
      "\n",
      "EPOCH 92 ...\n",
      "Validation Accuracy = 0.944\n",
      "\n",
      "EPOCH 93 ...\n",
      "Validation Accuracy = 0.943\n",
      "\n",
      "EPOCH 94 ...\n",
      "Validation Accuracy = 0.946\n",
      "\n",
      "EPOCH 95 ...\n",
      "Validation Accuracy = 0.950\n",
      "\n",
      "EPOCH 96 ...\n",
      "Validation Accuracy = 0.951\n",
      "\n",
      "EPOCH 97 ...\n",
      "Validation Accuracy = 0.951\n",
      "\n",
      "EPOCH 98 ...\n",
      "Validation Accuracy = 0.950\n",
      "\n",
      "EPOCH 99 ...\n",
      "Validation Accuracy = 0.951\n",
      "\n",
      "EPOCH 100 ...\n",
      "Validation Accuracy = 0.951\n",
      "\n",
      "Model saved\n"
     ]
    }
   ],
   "source": [
    "with tf.Session() as sess:\n",
    "    sess.run(tf.global_variables_initializer())\n",
    "    num_examples = len(X_train)\n",
    "    \n",
    "    print(\"Training...\")\n",
    "    print()\n",
    "    for i in range(EPOCHS):\n",
    "        X_train, y_train = shuffle(X_train, y_train)\n",
    "        for offset in range(0, num_examples, BATCH_SIZE):\n",
    "            end = offset + BATCH_SIZE\n",
    "            batch_x, batch_y = X_train[offset:end], y_train[offset:end]\n",
    "            sess.run(training_operation, feed_dict={x: batch_x, y: batch_y})\n",
    "            \n",
    "        validation_accuracy = evaluate(X_valid, y_valid)\n",
    "        print(\"EPOCH {} ...\".format(i+1))\n",
    "        print(\"Validation Accuracy = {:.3f}\".format(validation_accuracy))\n",
    "        print()\n",
    "        \n",
    "    saver.save(sess, './lenet')\n",
    "    print(\"Model saved\")"
   ]
  },
  {
   "cell_type": "code",
   "execution_count": 20,
   "metadata": {},
   "outputs": [
    {
     "name": "stdout",
     "output_type": "stream",
     "text": [
      "Validation Accuracy = 0.951\n"
     ]
    }
   ],
   "source": [
    "print(\"Validation Accuracy = {:.3f}\".format(validation_accuracy))"
   ]
  },
  {
   "cell_type": "code",
   "execution_count": 21,
   "metadata": {},
   "outputs": [
    {
     "name": "stdout",
     "output_type": "stream",
     "text": [
      "INFO:tensorflow:Restoring parameters from ./lenet\n",
      "Test Accuracy = 0.932\n"
     ]
    }
   ],
   "source": [
    "with tf.Session() as sess:\n",
    "    saver.restore(sess, tf.train.latest_checkpoint('.'))\n",
    "\n",
    "    test_accuracy = evaluate(X_test, y_test)\n",
    "    print(\"Test Accuracy = {:.3f}\".format(test_accuracy))"
   ]
  },
  {
   "cell_type": "markdown",
   "metadata": {},
   "source": [
    "---\n",
    "\n",
    "## Step 3: Test a Model on New Images\n",
    "\n",
    "To give yourself more insight into how your model is working, download at least five pictures of German traffic signs from the web and use your model to predict the traffic sign type.\n",
    "\n",
    "You may find `signnames.csv` useful as it contains mappings from the class id (integer) to the actual sign name."
   ]
  },
  {
   "cell_type": "markdown",
   "metadata": {},
   "source": [
    "### Load and Output the Images"
   ]
  },
  {
   "cell_type": "code",
   "execution_count": 22,
   "metadata": {},
   "outputs": [],
   "source": [
    "### Load the images and plot them here.\n",
    "### Feel free to use as many code cells as needed.\n",
    "# Create a path to the folder containing training data:"
   ]
  },
  {
   "cell_type": "code",
   "execution_count": 23,
   "metadata": {},
   "outputs": [],
   "source": [
    "def resize_images(input_folder_name='additional-traffic-signs-data', width=32, height=32):\n",
    "    output_folder_name = input_folder_name+'-resized'\n",
    "    cwd  = os.getcwd()\n",
    "    path = '{}/{}'.format(cwd, input_folder_name)\n",
    "    \n",
    "    if not os.path.exists('{}/{}'.format(cwd, output_folder_name)):\n",
    "        os.mkdir('{}/{}'.format(cwd, output_folder_name))\n",
    "    image_names = os.listdir(path)\n",
    "       \n",
    "    for i in range(len(image_names)):\n",
    "        image = PIL.Image.open(path+'/'+image_names[i])        \n",
    "        new_image = image.resize((width, height))\n",
    "        new_image.save(output_folder_name+'/'+image_names[i])"
   ]
  },
  {
   "cell_type": "code",
   "execution_count": 24,
   "metadata": {},
   "outputs": [],
   "source": [
    "resize_images()"
   ]
  },
  {
   "cell_type": "code",
   "execution_count": 25,
   "metadata": {},
   "outputs": [],
   "source": [
    "def load_images_from_folder(input_folder_name='additional-traffic-signs-data-resized'):   \n",
    "    original_image_names = os.listdir(input_folder_name)\n",
    "    original_images = ['']*len(os.listdir(input_folder_name))\n",
    "    for i in range(len(original_images)):\n",
    "        original_images[i] = mpimg.imread(input_folder_name +'/'+ os.listdir(input_folder_name)[i])        \n",
    "    return original_images, original_image_names"
   ]
  },
  {
   "cell_type": "code",
   "execution_count": 26,
   "metadata": {},
   "outputs": [],
   "source": [
    "web_images, web_image_names = load_images_from_folder()"
   ]
  },
  {
   "cell_type": "code",
   "execution_count": 27,
   "metadata": {},
   "outputs": [],
   "source": [
    "def list_to_array(images, image_names):\n",
    "    num_images = len(images)\n",
    "    width = web_images[0].shape[0]\n",
    "    height = web_images[0].shape[1]\n",
    "    channels = web_images[0].shape[2]    \n",
    "    \n",
    "    X_web = np.empty((num_images, width, height, channels), dtype='uint8')\n",
    "    y_web = np.empty((num_images), dtype='uint8')\n",
    "        \n",
    "    for i in range(0, num_images):\n",
    "        X_web[i] = images[i]\n",
    "        y_web[i] = image_names[i].split('.')[0]\n",
    "    \n",
    "    return X_web, y_web"
   ]
  },
  {
   "cell_type": "code",
   "execution_count": 28,
   "metadata": {},
   "outputs": [],
   "source": [
    "X_web_original, y_web_original = list_to_array(web_images, web_image_names)\n",
    "X_web = np.copy(X_web_original)\n",
    "y_web = np.copy(y_web_original)\n",
    "# print(type(X_web))\n",
    "# print(X_web.shape)\n",
    "# plt.imshow(X_web[0])"
   ]
  },
  {
   "cell_type": "code",
   "execution_count": 29,
   "metadata": {},
   "outputs": [],
   "source": [
    "# Preprocess web images:\n",
    "\n",
    "# Grayscale\n",
    "X_web_gray = np.sum(X_web/3, axis=3, keepdims=True)\n",
    "X_web = X_web_gray\n",
    "\n",
    "# Normalize\n",
    "X_web_normalized = ((X_web - 128)/128)\n",
    "X_web = X_web_normalized \n",
    "\n",
    "# Shuffle\n",
    "X_web, y_web = shuffle(X_web, y_web)"
   ]
  },
  {
   "cell_type": "markdown",
   "metadata": {},
   "source": [
    "### Predict the Sign Type for Each Image"
   ]
  },
  {
   "cell_type": "code",
   "execution_count": 30,
   "metadata": {},
   "outputs": [],
   "source": [
    "### Run the predictions here and use the model to output the prediction for each image.\n",
    "### Make sure to pre-process the images with the same pre-processing pipeline used earlier.\n",
    "### Feel free to use as many code cells as needed."
   ]
  },
  {
   "cell_type": "code",
   "execution_count": 31,
   "metadata": {},
   "outputs": [
    {
     "name": "stdout",
     "output_type": "stream",
     "text": [
      "INFO:tensorflow:Restoring parameters from ./lenet\n"
     ]
    }
   ],
   "source": [
    "with tf.Session() as sess:\n",
    "    saver.restore(sess, tf.train.latest_checkpoint('.'))\n",
    "    test_accuracy = evaluate(X_web, y_web)   "
   ]
  },
  {
   "cell_type": "markdown",
   "metadata": {},
   "source": [
    "### Analyze Performance"
   ]
  },
  {
   "cell_type": "code",
   "execution_count": 32,
   "metadata": {},
   "outputs": [],
   "source": [
    "### Calculate the accuracy for these 5 new images. \n",
    "### For example, if the model predicted 1 out of 5 signs correctly, it's 20% accurate on these new images."
   ]
  },
  {
   "cell_type": "code",
   "execution_count": 33,
   "metadata": {},
   "outputs": [
    {
     "name": "stdout",
     "output_type": "stream",
     "text": [
      "The classifier correctly classified 4 of 5 web images correctly.\n",
      "Test Accuracy = 80.0%\n"
     ]
    }
   ],
   "source": [
    "num_images = int(X_web.shape[0])\n",
    "num_correct = int(round(test_accuracy, 2)*num_images)\n",
    "num_incorrect = num_images - num_correct\n",
    "test_accuracy_percentage = round(test_accuracy*100, 2)\n",
    "\n",
    "\n",
    "print(f'The classifier correctly classified {num_correct} of {num_images} web images correctly.')\n",
    "print(f'Test Accuracy = {test_accuracy_percentage}%')"
   ]
  },
  {
   "cell_type": "markdown",
   "metadata": {},
   "source": [
    "### Output Top 5 Softmax Probabilities For Each Image Found on the Web"
   ]
  },
  {
   "cell_type": "markdown",
   "metadata": {},
   "source": [
    "For each of the new images, print out the model's softmax probabilities to show the **certainty** of the model's predictions (limit the output to the top 5 probabilities for each image). [`tf.nn.top_k`](https://www.tensorflow.org/versions/r0.12/api_docs/python/nn.html#top_k) could prove helpful here. \n",
    "\n",
    "The example below demonstrates how tf.nn.top_k can be used to find the top k predictions for each image.\n",
    "\n",
    "`tf.nn.top_k` will return the values and indices (class ids) of the top k predictions. So if k=3, for each sign, it'll return the 3 largest probabilities (out of a possible 43) and the correspoding class ids.\n",
    "\n",
    "Take this numpy array as an example. The values in the array represent predictions. The array contains softmax probabilities for five candidate images with six possible classes. `tf.nn.top_k` is used to choose the three classes with the highest probability:\n",
    "\n",
    "```\n",
    "# (5, 6) array\n",
    "a = np.array([[ 0.24879643,  0.07032244,  0.12641572,  0.34763842,  0.07893497,\n",
    "         0.12789202],\n",
    "       [ 0.28086119,  0.27569815,  0.08594638,  0.0178669 ,  0.18063401,\n",
    "         0.15899337],\n",
    "       [ 0.26076848,  0.23664738,  0.08020603,  0.07001922,  0.1134371 ,\n",
    "         0.23892179],\n",
    "       [ 0.11943333,  0.29198961,  0.02605103,  0.26234032,  0.1351348 ,\n",
    "         0.16505091],\n",
    "       [ 0.09561176,  0.34396535,  0.0643941 ,  0.16240774,  0.24206137,\n",
    "         0.09155967]])\n",
    "```\n",
    "\n",
    "Running it through `sess.run(tf.nn.top_k(tf.constant(a), k=3))` produces:\n",
    "\n",
    "```\n",
    "TopKV2(values=array([[ 0.34763842,  0.24879643,  0.12789202],\n",
    "       [ 0.28086119,  0.27569815,  0.18063401],\n",
    "       [ 0.26076848,  0.23892179,  0.23664738],\n",
    "       [ 0.29198961,  0.26234032,  0.16505091],\n",
    "       [ 0.34396535,  0.24206137,  0.16240774]]), indices=array([[3, 0, 5],\n",
    "       [0, 1, 4],\n",
    "       [0, 5, 1],\n",
    "       [1, 3, 5],\n",
    "       [1, 4, 3]], dtype=int32))\n",
    "```\n",
    "\n",
    "Looking just at the first row we get `[ 0.34763842,  0.24879643,  0.12789202]`, you can confirm these are the 3 largest probabilities in `a`. You'll also notice `[3, 0, 5]` are the corresponding indices."
   ]
  },
  {
   "cell_type": "code",
   "execution_count": 34,
   "metadata": {},
   "outputs": [],
   "source": [
    "### Print out the top five softmax probabilities for the predictions on the German traffic sign images found on the web. \n",
    "### Feel free to use as many code cells as needed."
   ]
  },
  {
   "cell_type": "code",
   "execution_count": 35,
   "metadata": {},
   "outputs": [
    {
     "name": "stdout",
     "output_type": "stream",
     "text": [
      "INFO:tensorflow:Restoring parameters from ./lenet\n"
     ]
    }
   ],
   "source": [
    "TOP_K = 5\n",
    "with tf.Session() as sess:\n",
    "    saver.restore(sess, tf.train.latest_checkpoint('.'))\n",
    "    top = sess.run(tf.nn.top_k(tf.nn.softmax(logits), k=TOP_K), feed_dict={x:X_web})"
   ]
  },
  {
   "cell_type": "code",
   "execution_count": 42,
   "metadata": {},
   "outputs": [],
   "source": [
    "def show_softmax(image_num, X_web, y_web, sign_names):\n",
    "    \n",
    "    # Get data:\n",
    "    i = image_num\n",
    "    image = X_web[i].squeeze()\n",
    "    num_images = X_web.shape[0]\n",
    "    correct_class_id  = str(y_web[i])\n",
    "    title = sign_names[correct_class_id]\n",
    "    softmax_class_ids = top[1][i].astype(str)       \n",
    "    key_names = [None]*X_web.shape[0]\n",
    "    for j in range(num_images):\n",
    "        key_names[j] = sign_names[str(softmax_class_ids[j])][0]\n",
    "\n",
    "    # Show the image with the correct class ID above it: \n",
    "    plt.figure(1)\n",
    "    plt.subplot(221)\n",
    "    plt.title(title)\n",
    "    plt.imshow(image, cmap='gray')\n",
    "\n",
    "    # Show softmax probabilities:\n",
    "    plt.subplot(222)\n",
    "    plt.bar(key_names, top[0][i]*100)\n",
    "    plt.title('Softmax Probabilities')\n",
    "    # plt.xlabel('')\n",
    "    plt.ylabel('Probability (%)')\n",
    "    plt.xticks(rotation=45, ha='right')\n",
    "    plt.subplots_adjust(bottom=1.0, left=0.1, right=2.0, top=2.0)"
   ]
  },
  {
   "cell_type": "code",
   "execution_count": 43,
   "metadata": {},
   "outputs": [
    {
     "data": {
      "image/png": "[encoded data removed]",
      "text/plain": [
       "<matplotlib.figure.Figure at 0x7f17d4e00748>"
      ]
     },
     "metadata": {},
     "output_type": "display_data"
    }
   ],
   "source": [
    "show_softmax(0, X_web, y_web, sign_names)"
   ]
  },
  {
   "cell_type": "code",
   "execution_count": 44,
   "metadata": {},
   "outputs": [
    {
     "data": {
      "image/png": "[encoded data removed]",
      "text/plain": [
       "<matplotlib.figure.Figure at 0x7f17d4d498d0>"
      ]
     },
     "metadata": {},
     "output_type": "display_data"
    }
   ],
   "source": [
    "show_softmax(1, X_web, y_web, sign_names)"
   ]
  },
  {
   "cell_type": "code",
   "execution_count": 45,
   "metadata": {},
   "outputs": [
    {
     "data": {
      "image/png": "[encoded data removed]",
      "text/plain": [
       "<matplotlib.figure.Figure at 0x7f17d4d612b0>"
      ]
     },
     "metadata": {},
     "output_type": "display_data"
    }
   ],
   "source": [
    "show_softmax(2, X_web, y_web, sign_names)"
   ]
  },
  {
   "cell_type": "code",
   "execution_count": 46,
   "metadata": {},
   "outputs": [
    {
     "data": {
      "image/png": "[encoded data removed]",
      "text/plain": [
       "<matplotlib.figure.Figure at 0x7f17d4c18780>"
      ]
     },
     "metadata": {},
     "output_type": "display_data"
    }
   ],
   "source": [
    "show_softmax(3, X_web, y_web, sign_names)"
   ]
  },
  {
   "cell_type": "code",
   "execution_count": 47,
   "metadata": {},
   "outputs": [
    {
     "data": {
      "image/png": "[encoded data removed]",
      "text/plain": [
       "<matplotlib.figure.Figure at 0x7f17d4b3d240>"
      ]
     },
     "metadata": {},
     "output_type": "display_data"
    }
   ],
   "source": [
    "show_softmax(4, X_web, y_web, sign_names)"
   ]
  },
  {
   "cell_type": "markdown",
   "metadata": {},
   "source": [
    "### Project Writeup\n",
    "\n",
    "Once you have completed the code implementation, document your results in a project writeup using this [template](https://github.com/udacity/CarND-Traffic-Sign-Classifier-Project/blob/master/writeup_template.md) as a guide. The writeup can be in a markdown or pdf file. "
   ]
  },
  {
   "cell_type": "markdown",
   "metadata": {},
   "source": [
    "> **Note**: Once you have completed all of the code implementations and successfully answered each question above, you may finalize your work by exporting the iPython Notebook as an HTML document. You can do this by using the menu above and navigating to  \\n\",\n",
    "    \"**File -> Download as -> HTML (.html)**. Include the finished document along with this notebook as your submission."
   ]
  }
 ],
 "metadata": {
  "anaconda-cloud": {},
  "kernelspec": {
   "display_name": "Python 3",
   "language": "python",
   "name": "python3"
  },
  "language_info": {
   "codemirror_mode": {
    "name": "ipython",
    "version": 3
   },
   "file_extension": ".py",
   "mimetype": "text/x-python",
   "name": "python",
   "nbconvert_exporter": "python",
   "pygments_lexer": "ipython3",
   "version": "3.6.3"
  }
 },
 "nbformat": 4,
 "nbformat_minor": 1
}
